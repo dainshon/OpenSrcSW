{
 "cells": [
  {
   "cell_type": "code",
   "execution_count": 7,
   "id": "deb6855b",
   "metadata": {},
   "outputs": [
    {
     "name": "stdout",
     "output_type": "stream",
     "text": [
      "Numbers?30 20 50 10\n",
      "30\n",
      "50\n"
     ]
    }
   ],
   "source": [
    "#최대값 구하기\n",
    "\n",
    "list = [x for x in input(\"Numbers?\").split()]\n",
    "\n",
    "max=list[0]\n",
    "\n",
    "for i in list:\n",
    "    if max<i:\n",
    "        max=i\n",
    "print (max)    "
   ]
  },
  {
   "cell_type": "code",
   "execution_count": 6,
   "id": "a79f1ddc",
   "metadata": {},
   "outputs": [
    {
     "name": "stdout",
     "output_type": "stream",
     "text": [
      "암호화(1), 복호화(2): 1\n",
      "암호화: asdsdf\n",
      "bteteg \n"
     ]
    }
   ],
   "source": [
    "#암호화/복호화\n",
    "\n",
    "menu=int(input(\"암호화(1), 복호화(2): \"))\n",
    "\n",
    "if menu==1:\n",
    "    str=input(\"암호화: \").split()\n",
    "    a=len(str)\n",
    "    str.reverse()\n",
    "    list=\"\"\n",
    "    for i in str:\n",
    "        k=\"\" \n",
    "\n",
    "        for ch in i:\n",
    "            ac=ord(ch)\n",
    "            ac+=1\n",
    "            ch=chr(ac)\n",
    "            k+=ch\n",
    "        i=\"\"\n",
    "        i=k\n",
    "        list+=i\n",
    "        list+=\" \"\n",
    "           \n",
    "        \n",
    "    print(list)    \n",
    "    \n",
    "if menu==2:\n",
    "    str=input(\"암호화: \").split()\n",
    "    a=len(str)\n",
    "    str.reverse()\n",
    "    list=\"\"\n",
    "    for i in str:\n",
    "\n",
    "\n",
    "        for ch in i:\n",
    "            ac=ord(ch)\n",
    "            ac-=1\n",
    "            ch=chr(ac)\n",
    "            k+=ch\n",
    "        i=\"\"\n",
    "        i=k\n",
    "        list+=i\n",
    "        list+=\" \"\n",
    "        k=\"\"    \n",
    "        \n",
    "    print(list)   \n",
    "        \n",
    "\n",
    "    \n"
   ]
  },
  {
   "cell_type": "code",
   "execution_count": 11,
   "id": "65f7bbbc",
   "metadata": {},
   "outputs": [
    {
     "name": "stdout",
     "output_type": "stream",
     "text": [
      "1\n",
      "이름: asd\n",
      "번호: 123\n",
      "2\n",
      "이름: sdf\n",
      "번호: 234\n",
      "3\n",
      "이름: dfg\n",
      "번호: 345\n",
      "{'asd': 123, 'sdf': 234, 'dfg': 345}\n",
      "{123: 'asd', 234: 'sdf', 345: 'dfg'}\n",
      "이름입력(1) 번호입력(2) 종료(3)1\n",
      "이름을 입력하시오: sdf\n",
      "234\n",
      "이름입력(1) 번호입력(2) 종료(3)2\n",
      "번호를 입력하시오123\n",
      "asd\n",
      "이름입력(1) 번호입력(2) 종료(3)3\n"
     ]
    }
   ],
   "source": [
    "dic1={}\n",
    "dic2={}\n",
    "i=0\n",
    "while 1:\n",
    "    i+=1\n",
    "    print(i)\n",
    "    name=input(\"이름: \")\n",
    "    num=int(input(\"번호: \"))\n",
    "    dic1[name]=num\n",
    "    dic2[num]=name\n",
    "    \n",
    "    if i>=10:\n",
    "        break;\n",
    "    \n",
    "print(dic1)\n",
    "print(dic2)\n",
    "\n",
    "\n",
    "\n",
    "while 1:\n",
    "    menu=int(input(\"이름입력(1) 번호입력(2) 종료(3)\"))\n",
    "    if menu==1:\n",
    "        search=input(\"이름을 입력하시오: \")\n",
    "        print(dic1[search])\n",
    "    elif menu==2:\n",
    "        search=int(input(\"번호를 입력하시오\"))\n",
    "        print(dic2[search])\n",
    "    elif menu==3:\n",
    "        break"
   ]
  },
  {
   "cell_type": "markdown",
   "id": "011b651b",
   "metadata": {},
   "source": []
  },
  {
   "cell_type": "code",
   "execution_count": null,
   "id": "c90e5f79",
   "metadata": {},
   "outputs": [],
   "source": []
  }
 ],
 "metadata": {
  "kernelspec": {
   "display_name": "Python 3",
   "language": "python",
   "name": "python3"
  },
  "language_info": {
   "codemirror_mode": {
    "name": "ipython",
    "version": 3
   },
   "file_extension": ".py",
   "mimetype": "text/x-python",
   "name": "python",
   "nbconvert_exporter": "python",
   "pygments_lexer": "ipython3",
   "version": "3.9.4"
  }
 },
 "nbformat": 4,
 "nbformat_minor": 5
}
