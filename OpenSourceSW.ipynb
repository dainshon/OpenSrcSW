{
 "cells": [
  {
   "cell_type": "code",
   "execution_count": 1,
   "id": "a47ff1c8",
   "metadata": {},
   "outputs": [
    {
     "name": "stdout",
     "output_type": "stream",
     "text": [
      "Hello Jupyter\n"
     ]
    }
   ],
   "source": [
    "print(\"Hello Jupyter\")"
   ]
  },
  {
   "cell_type": "code",
   "execution_count": 11,
   "id": "1aea9587",
   "metadata": {},
   "outputs": [
    {
     "name": "stdout",
     "output_type": "stream",
     "text": [
      "숫자를 입력하시오3\n",
      "y: 45\n"
     ]
    }
   ],
   "source": [
    "#실습1\n",
    "\n",
    "num = int(input(\"숫자를 입력하시오\"))\n",
    "y=3*(num*num)+5*num+3\n",
    "\n",
    "print(\"y:\",y)"
   ]
  },
  {
   "cell_type": "code",
   "execution_count": 10,
   "id": "329c7583",
   "metadata": {},
   "outputs": [
    {
     "name": "stdout",
     "output_type": "stream",
     "text": [
      "반지름을 입력하시오.10\n",
      "둘레:  62.800000000000004\n",
      "넓이:  314.0\n"
     ]
    }
   ],
   "source": [
    "#실습2\n",
    "\n",
    "pi=3.14\n",
    "radius=int(input(\"반지름을 입력하시오.\"))\n",
    "cir=2*pi*radius\n",
    "area=pi*radius*radius\n",
    "\n",
    "print(\"둘레: \",cir)\n",
    "print(\"넓이: \",area)"
   ]
  },
  {
   "cell_type": "code",
   "execution_count": null,
   "id": "1a4e4178",
   "metadata": {},
   "outputs": [],
   "source": []
  },
  {
   "cell_type": "code",
   "execution_count": null,
   "id": "306c5ba1",
   "metadata": {},
   "outputs": [],
   "source": []
  },
  {
   "cell_type": "code",
   "execution_count": null,
   "id": "172ab3db",
   "metadata": {},
   "outputs": [],
   "source": []
  }
 ],
 "metadata": {
  "kernelspec": {
   "display_name": "Python 3",
   "language": "python",
   "name": "python3"
  },
  "language_info": {
   "codemirror_mode": {
    "name": "ipython",
    "version": 3
   },
   "file_extension": ".py",
   "mimetype": "text/x-python",
   "name": "python",
   "nbconvert_exporter": "python",
   "pygments_lexer": "ipython3",
   "version": "3.9.4"
  }
 },
 "nbformat": 4,
 "nbformat_minor": 5
}
