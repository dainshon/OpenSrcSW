{
 "cells": [
  {
   "cell_type": "code",
   "execution_count": 49,
   "id": "36ee8089",
   "metadata": {
    "scrolled": true
   },
   "outputs": [
    {
     "name": "stdout",
     "output_type": "stream",
     "text": [
      "Hello World\n",
      "python\n",
      "hi my name is\n"
     ]
    }
   ],
   "source": [
    "file=open('file1.txt','r')\n",
    "\n",
    "str=''\n",
    "while 1:\n",
    "    line=file.readline()\n",
    "    text=line\n",
    "    str=str+text\n",
    "    #print(line)\n",
    "   # f.write(line)\n",
    "    \n",
    "    if not line:\n",
    "        break\n",
    "\n",
    "file.close()\n",
    "print(str)\n",
    "\n",
    "f=open('file2.txt','w')\n",
    "f.write(str)\n",
    "f.close()\n",
    "\n",
    "        "
   ]
  },
  {
   "cell_type": "code",
   "execution_count": 50,
   "id": "fced53f5",
   "metadata": {},
   "outputs": [
    {
     "name": "stdout",
     "output_type": "stream",
     "text": [
      "# of lines:  3\n",
      "# of words:  7\n"
     ]
    }
   ],
   "source": [
    "file=open('file1.txt','r')\n",
    "linelength=0\n",
    "word=0\n",
    "count=0\n",
    "while 1:\n",
    "    line=file.readline()\n",
    "    count=len(line.split(' '))\n",
    "    word=word+count\n",
    "    if not line:\n",
    "        break\n",
    "    linelength=linelength+1    \n",
    "\n",
    "word=word-1\n",
    "linelength=linelength\n",
    "print('# of lines: ',linelength)\n",
    "print('# of words: ',word)\n",
    "file.close()        "
   ]
  },
  {
   "cell_type": "code",
   "execution_count": 29,
   "id": "92b3156f",
   "metadata": {},
   "outputs": [
    {
     "name": "stdout",
     "output_type": "stream",
     "text": [
      "1+2=3 입니다.\n",
      "5-1=4 입니다.\n",
      "2*3=6 입니다.\n",
      "6/4=1.5 입니다.\n"
     ]
    }
   ],
   "source": [
    "#_*_ coding: cp949 _*_\n",
    "class Calc:\n",
    "    def sum(self, a,b):\n",
    "        result=a+b\n",
    "        print(\"{0}+{1}={2} 입니다.\".format(a,b,result))\n",
    "    def sub(self, a,b):\n",
    "        result=a-b\n",
    "        print(\"{0}-{1}={2} 입니다.\".format(a,b,result))  \n",
    "    def multi(self, a,b):\n",
    "        result=a*b\n",
    "        print(\"{0}*{1}={2} 입니다.\".format(a,b,result) )  \n",
    "    def divi(self, a,b):\n",
    "        result=a/b\n",
    "        print(\"{0}/{1}={2} 입니다.\".format(a,b,result))\n",
    "\n",
    "calc=Calc()\n",
    "calc.sum(1,2)\n",
    "calc.sub(5,1)\n",
    "calc.multi(2,3)\n",
    "calc.divi(6,4)"
   ]
  },
  {
   "cell_type": "code",
   "execution_count": 45,
   "id": "e87370e7",
   "metadata": {},
   "outputs": [
    {
     "name": "stdout",
     "output_type": "stream",
     "text": [
      "계산식 입력: 1 + 3 * 2\n",
      "['1', '+', '3', '*', '2']\n",
      "src:  1\n",
      "src:  3\n",
      "src:  2\n",
      "['1', '3', '2']\n"
     ]
    }
   ],
   "source": [
    "#_*_ coding: cp949 _*_\n",
    "class Stack:\n",
    "    def op(self, operator):\n",
    "        if operator=='+':\n",
    "            return 1\n",
    "        elif operator=='-':\n",
    "            return 1\n",
    "        elif operator=='*':\n",
    "            return 2\n",
    "        elif operator=='/':\n",
    "            return 2\n",
    "#'+'=1\n",
    "#'-'=1\n",
    "#'*'=2\n",
    "#'/'=2\n",
    "\n",
    "stack=Stack()\n",
    "\n",
    "a=input(\"계산식 입력: \")\n",
    "src=a.split()\n",
    "print(src)\n",
    "dest=[]\n",
    "stack=[]\n",
    "#print(src[3])\n",
    "i=0\n",
    "j=0\n",
    "while 1:\n",
    "    if i%2==0:\n",
    "        #print('i: ',i)\n",
    "        #dest[j]=k\n",
    "        print('src: ',src[i])\n",
    "        dest.append(src[i])\n",
    "        j=j+1\n",
    "    \n",
    "    elif i%2==1:\n",
    "        for x in stack:\n",
    "            print('x: ',x)\n",
    "            if stack.op(src[i])>stack.op(x):\n",
    "                print(\"1\")\n",
    "                dest.append(src[i])\n",
    "                stack.remove(src[i])\n",
    "            elif stack.op(src[i])<stack.op(x):\n",
    "                dest.append(x)\n",
    "            else:\n",
    "                dest.append(src[i])\n",
    "    i=i+1\n",
    "    if i>=len(src):\n",
    "       # print('i:',i)\n",
    "        break\n",
    "        \n",
    "print(dest)\n",
    "    \n"
   ]
  },
  {
   "cell_type": "code",
   "execution_count": 3,
   "id": "bf052ac5",
   "metadata": {},
   "outputs": [
    {
     "name": "stdout",
     "output_type": "stream",
     "text": [
      "계산식 입력: 1 + 2 - 3 * 4 + 5\n",
      "[-4.0]\n"
     ]
    }
   ],
   "source": [
    "#_*_ coding: cp949 _*_\n",
    "class Sort:\n",
    "    def op(self, operator):\n",
    "        if operator=='+':\n",
    "            return 0\n",
    "        elif operator=='-':\n",
    "            return 1\n",
    "        elif operator=='*':\n",
    "            return 2\n",
    "        elif operator=='/':\n",
    "            return 2\n",
    "sort=Sort()\n",
    "a=input(\"계산식 입력: \")\n",
    "src=a.split()\n",
    "\n",
    "calc=[] #숫자\n",
    "operator=[] #연산자\n",
    "\n",
    "srcnum=0\n",
    "\n",
    "while 1:\n",
    "    calc.append(src[srcnum])#짝\n",
    "    srcnum=srcnum+1\n",
    "    \n",
    "    if srcnum>=len(src):\n",
    "        break\n",
    "\n",
    "    if len(operator)==0:\n",
    "        operator.append(src[srcnum]) #홀\n",
    "    elif sort.op(src[srcnum])<sort.op(operator[-1]):\n",
    "        calc.append(operator[-1])\n",
    "        operator.pop()\n",
    "        if sort.op(operator[-1])>sort.op(src[srcnum]):\n",
    "            calc.append(operator[-1])\n",
    "            operator.pop()\n",
    "        operator.append(src[srcnum])\n",
    "    else:\n",
    "        operator.append(src[srcnum])\n",
    "    \n",
    "    \n",
    "    srcnum=srcnum+1\n",
    "p=0  \n",
    "operator1=[]\n",
    "operator2=[]\n",
    "\n",
    "operator.reverse()\n",
    "\n",
    "calc1=calc+operator\n",
    "\n",
    "class Stack:\n",
    "    def __init__(self):\n",
    "        self.list=list()\n",
    "    def push(self, data):\n",
    "        self.list.append(data)\n",
    "    def pop(self):\n",
    "        return self.list.pop()\n",
    "\n",
    "class Calculator:\n",
    "        \n",
    "    def calculate(self, cclist):\n",
    "        stack=[]\n",
    "        for x in cclist:\n",
    "            if x=='+':\n",
    "                b=stack.pop()\n",
    "                a=stack.pop()\n",
    "                stack.append(a+b)\n",
    "            elif x=='-':\n",
    "                b=stack.pop()\n",
    "                a=stack.pop()\n",
    "                stack.append(a-b)\n",
    "            elif x=='*':\n",
    "                b=stack.pop()\n",
    "                a=stack.pop()\n",
    "                stack.append(a*b)\n",
    "            elif x=='/':\n",
    "                b=stack.pop()\n",
    "                a=stack.pop()\n",
    "                stack.append(a/b)\n",
    "            else:\n",
    "                stack.append(float(x))\n",
    "        return stack\n",
    "\n",
    "result=Calculator()\n",
    "\n",
    "print(result.calculate(calc1))"
   ]
  },
  {
   "cell_type": "code",
   "execution_count": null,
   "id": "c97e07e1",
   "metadata": {
    "scrolled": true
   },
   "outputs": [],
   "source": []
  },
  {
   "cell_type": "code",
   "execution_count": null,
   "id": "9a6d525a",
   "metadata": {},
   "outputs": [],
   "source": []
  },
  {
   "cell_type": "code",
   "execution_count": null,
   "id": "278274d5",
   "metadata": {},
   "outputs": [],
   "source": []
  },
  {
   "cell_type": "code",
   "execution_count": null,
   "id": "94b6ab0e",
   "metadata": {},
   "outputs": [],
   "source": []
  }
 ],
 "metadata": {
  "kernelspec": {
   "display_name": "Python 3",
   "language": "python",
   "name": "python3"
  },
  "language_info": {
   "codemirror_mode": {
    "name": "ipython",
    "version": 3
   },
   "file_extension": ".py",
   "mimetype": "text/x-python",
   "name": "python",
   "nbconvert_exporter": "python",
   "pygments_lexer": "ipython3",
   "version": "3.9.4"
  }
 },
 "nbformat": 4,
 "nbformat_minor": 5
}
